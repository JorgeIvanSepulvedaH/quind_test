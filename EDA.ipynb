{
 "cells": [
  {
   "cell_type": "markdown",
   "metadata": {},
   "source": [
    "Cargar el dataframe resultado del preprocesamiento"
   ]
  },
  {
   "cell_type": "code",
   "execution_count": 175,
   "metadata": {},
   "outputs": [],
   "source": [
    "from dataloader import ETL\n",
    "import pandas as pd\n",
    "\n",
    "file_path = 'dataframe_merge.xlsx'\n",
    "etl_fusion = ETL(file_path)\n",
    "df_fusion = pd.read_excel(file_path)"
   ]
  },
  {
   "cell_type": "markdown",
   "metadata": {},
   "source": [
    "Tipos de variables"
   ]
  },
  {
   "cell_type": "code",
   "execution_count": 176,
   "metadata": {},
   "outputs": [
    {
     "data": {
      "text/plain": [
       "int64      11\n",
       "object      9\n",
       "float64     2\n",
       "Name: count, dtype: int64"
      ]
     },
     "execution_count": 176,
     "metadata": {},
     "output_type": "execute_result"
    }
   ],
   "source": [
    "df_fusion.dtypes.value_counts()"
   ]
  },
  {
   "cell_type": "markdown",
   "metadata": {},
   "source": [
    "Métricas descriptivas de las características"
   ]
  },
  {
   "cell_type": "code",
   "execution_count": 177,
   "metadata": {},
   "outputs": [
    {
     "data": {
      "text/html": [
       "<div>\n",
       "<style scoped>\n",
       "    .dataframe tbody tr th:only-of-type {\n",
       "        vertical-align: middle;\n",
       "    }\n",
       "\n",
       "    .dataframe tbody tr th {\n",
       "        vertical-align: top;\n",
       "    }\n",
       "\n",
       "    .dataframe thead th {\n",
       "        text-align: right;\n",
       "    }\n",
       "</style>\n",
       "<table border=\"1\" class=\"dataframe\">\n",
       "  <thead>\n",
       "    <tr style=\"text-align: right;\">\n",
       "      <th></th>\n",
       "      <th>film_id</th>\n",
       "      <th>release_year</th>\n",
       "      <th>language_id</th>\n",
       "      <th>rental_duration</th>\n",
       "      <th>rental_rate</th>\n",
       "      <th>length</th>\n",
       "      <th>replacement_cost</th>\n",
       "      <th>num_voted_users</th>\n",
       "      <th>inventory_id</th>\n",
       "      <th>store_id</th>\n",
       "      <th>rental_id</th>\n",
       "      <th>customer_id</th>\n",
       "      <th>staff_id</th>\n",
       "    </tr>\n",
       "  </thead>\n",
       "  <tbody>\n",
       "    <tr>\n",
       "      <th>count</th>\n",
       "      <td>16088.000000</td>\n",
       "      <td>16088.0</td>\n",
       "      <td>16088.0</td>\n",
       "      <td>16088.000000</td>\n",
       "      <td>16088.000000</td>\n",
       "      <td>16088.000000</td>\n",
       "      <td>16088.000000</td>\n",
       "      <td>16088.000000</td>\n",
       "      <td>16088.000000</td>\n",
       "      <td>16088.000000</td>\n",
       "      <td>16088.000000</td>\n",
       "      <td>16088.000000</td>\n",
       "      <td>16088.000000</td>\n",
       "    </tr>\n",
       "    <tr>\n",
       "      <th>mean</th>\n",
       "      <td>500.814582</td>\n",
       "      <td>2006.0</td>\n",
       "      <td>1.0</td>\n",
       "      <td>4.932185</td>\n",
       "      <td>2.951213</td>\n",
       "      <td>114.810977</td>\n",
       "      <td>20.265813</td>\n",
       "      <td>39241.229488</td>\n",
       "      <td>2290.506278</td>\n",
       "      <td>1.999254</td>\n",
       "      <td>8029.785306</td>\n",
       "      <td>297.216497</td>\n",
       "      <td>1.498633</td>\n",
       "    </tr>\n",
       "    <tr>\n",
       "      <th>std</th>\n",
       "      <td>288.077662</td>\n",
       "      <td>0.0</td>\n",
       "      <td>0.0</td>\n",
       "      <td>1.400854</td>\n",
       "      <td>1.650959</td>\n",
       "      <td>40.062412</td>\n",
       "      <td>6.091701</td>\n",
       "      <td>22430.929911</td>\n",
       "      <td>1320.203439</td>\n",
       "      <td>0.027302</td>\n",
       "      <td>4631.653412</td>\n",
       "      <td>172.432975</td>\n",
       "      <td>0.500014</td>\n",
       "    </tr>\n",
       "    <tr>\n",
       "      <th>min</th>\n",
       "      <td>1.000000</td>\n",
       "      <td>2006.0</td>\n",
       "      <td>1.0</td>\n",
       "      <td>3.000000</td>\n",
       "      <td>0.990000</td>\n",
       "      <td>46.000000</td>\n",
       "      <td>9.990000</td>\n",
       "      <td>0.000000</td>\n",
       "      <td>1.000000</td>\n",
       "      <td>1.000000</td>\n",
       "      <td>1.000000</td>\n",
       "      <td>1.000000</td>\n",
       "      <td>1.000000</td>\n",
       "    </tr>\n",
       "    <tr>\n",
       "      <th>25%</th>\n",
       "      <td>256.000000</td>\n",
       "      <td>2006.0</td>\n",
       "      <td>1.0</td>\n",
       "      <td>4.000000</td>\n",
       "      <td>0.990000</td>\n",
       "      <td>80.000000</td>\n",
       "      <td>14.990000</td>\n",
       "      <td>19050.000000</td>\n",
       "      <td>1161.000000</td>\n",
       "      <td>2.000000</td>\n",
       "      <td>4022.750000</td>\n",
       "      <td>147.750000</td>\n",
       "      <td>1.000000</td>\n",
       "    </tr>\n",
       "    <tr>\n",
       "      <th>50%</th>\n",
       "      <td>494.000000</td>\n",
       "      <td>2006.0</td>\n",
       "      <td>1.0</td>\n",
       "      <td>5.000000</td>\n",
       "      <td>2.990000</td>\n",
       "      <td>113.000000</td>\n",
       "      <td>20.990000</td>\n",
       "      <td>39250.000000</td>\n",
       "      <td>2285.000000</td>\n",
       "      <td>2.000000</td>\n",
       "      <td>8025.500000</td>\n",
       "      <td>296.000000</td>\n",
       "      <td>1.000000</td>\n",
       "    </tr>\n",
       "    <tr>\n",
       "      <th>75%</th>\n",
       "      <td>752.000000</td>\n",
       "      <td>2006.0</td>\n",
       "      <td>1.0</td>\n",
       "      <td>6.000000</td>\n",
       "      <td>4.990000</td>\n",
       "      <td>148.000000</td>\n",
       "      <td>25.990000</td>\n",
       "      <td>58650.000000</td>\n",
       "      <td>3430.000000</td>\n",
       "      <td>2.000000</td>\n",
       "      <td>12041.250000</td>\n",
       "      <td>446.000000</td>\n",
       "      <td>2.000000</td>\n",
       "    </tr>\n",
       "    <tr>\n",
       "      <th>max</th>\n",
       "      <td>1000.000000</td>\n",
       "      <td>2006.0</td>\n",
       "      <td>1.0</td>\n",
       "      <td>7.000000</td>\n",
       "      <td>4.990000</td>\n",
       "      <td>185.000000</td>\n",
       "      <td>29.990000</td>\n",
       "      <td>76900.000000</td>\n",
       "      <td>4581.000000</td>\n",
       "      <td>2.000000</td>\n",
       "      <td>16049.000000</td>\n",
       "      <td>599.000000</td>\n",
       "      <td>2.000000</td>\n",
       "    </tr>\n",
       "  </tbody>\n",
       "</table>\n",
       "</div>"
      ],
      "text/plain": [
       "            film_id   release_year   language_id   rental_duration  \\\n",
       "count  16088.000000        16088.0       16088.0      16088.000000   \n",
       "mean     500.814582         2006.0           1.0          4.932185   \n",
       "std      288.077662            0.0           0.0          1.400854   \n",
       "min        1.000000         2006.0           1.0          3.000000   \n",
       "25%      256.000000         2006.0           1.0          4.000000   \n",
       "50%      494.000000         2006.0           1.0          5.000000   \n",
       "75%      752.000000         2006.0           1.0          6.000000   \n",
       "max     1000.000000         2006.0           1.0          7.000000   \n",
       "\n",
       "        rental_rate        length   replacement_cost   num_voted_users  \\\n",
       "count  16088.000000  16088.000000       16088.000000      16088.000000   \n",
       "mean       2.951213    114.810977          20.265813      39241.229488   \n",
       "std        1.650959     40.062412           6.091701      22430.929911   \n",
       "min        0.990000     46.000000           9.990000          0.000000   \n",
       "25%        0.990000     80.000000          14.990000      19050.000000   \n",
       "50%        2.990000    113.000000          20.990000      39250.000000   \n",
       "75%        4.990000    148.000000          25.990000      58650.000000   \n",
       "max        4.990000    185.000000          29.990000      76900.000000   \n",
       "\n",
       "       inventory_id      store_id     rental_id   customer_id      staff_id  \n",
       "count  16088.000000  16088.000000  16088.000000  16088.000000  16088.000000  \n",
       "mean    2290.506278      1.999254   8029.785306    297.216497      1.498633  \n",
       "std     1320.203439      0.027302   4631.653412    172.432975      0.500014  \n",
       "min        1.000000      1.000000      1.000000      1.000000      1.000000  \n",
       "25%     1161.000000      2.000000   4022.750000    147.750000      1.000000  \n",
       "50%     2285.000000      2.000000   8025.500000    296.000000      1.000000  \n",
       "75%     3430.000000      2.000000  12041.250000    446.000000      2.000000  \n",
       "max     4581.000000      2.000000  16049.000000    599.000000      2.000000  "
      ]
     },
     "execution_count": 177,
     "metadata": {},
     "output_type": "execute_result"
    }
   ],
   "source": [
    "df_fusion.describe()"
   ]
  },
  {
   "cell_type": "markdown",
   "metadata": {},
   "source": [
    "# Preguntas"
   ]
  },
  {
   "cell_type": "markdown",
   "metadata": {},
   "source": [
    "## 1. ¿Cuántas y cuál es el costo de reposición de las películas no devueltas?"
   ]
  },
  {
   "cell_type": "code",
   "execution_count": 178,
   "metadata": {},
   "outputs": [
    {
     "name": "stderr",
     "output_type": "stream",
     "text": [
      "2024-11-15 23:52:56,852 -- dataloader -- DEBUG -- Valores NULL detectados\n",
      "2024-11-15 23:52:56,853 -- dataloader -- INFO -- El método null_count tardó 0.0100 segundos en ejecutarse.\n"
     ]
    },
    {
     "name": "stdout",
     "output_type": "stream",
     "text": [
      "Valores faltantes columna  return_date son 183\n"
     ]
    }
   ],
   "source": [
    "columns =  [' return_date']\n",
    "null_values = etl_fusion.null_count(df_fusion, columns)\n",
    "\n",
    "for i in range(len(columns)):\n",
    "    print('Valores faltantes columna %s son %i' %( columns[i], len(null_values[i])))"
   ]
  },
  {
   "cell_type": "markdown",
   "metadata": {},
   "source": [
    "En este caso la cantidad de valores 'NULL' de la columna ' return_date' se pueden interpretar como elementos que no fueron regresados, es decir, películas que se perdieron. Teniendo en cuenta que cada película tiene asociado un costo de reposición, entonces es posible calcular el costo total de reposición de películas perdidas."
   ]
  },
  {
   "cell_type": "code",
   "execution_count": 179,
   "metadata": {},
   "outputs": [
    {
     "name": "stderr",
     "output_type": "stream",
     "text": [
      "2024-11-15 23:52:56,863 -- dataloader -- DEBUG -- Cálculo realizado\n",
      "2024-11-15 23:52:56,864 -- dataloader -- INFO -- El método sum_index tardó 0.0020 segundos en ejecutarse.\n"
     ]
    },
    {
     "name": "stdout",
     "output_type": "stream",
     "text": [
      "El costo de la reposición de las películas perdidas es de:  3552.17\n"
     ]
    }
   ],
   "source": [
    "costo_total = etl_fusion.sum_index(df_fusion, ' replacement_cost', null_values[0])\n",
    "print('El costo de la reposición de las películas perdidas es de: ', round(costo_total,2))"
   ]
  },
  {
   "cell_type": "markdown",
   "metadata": {},
   "source": [
    "#### Hay registros de 183 películas no devueltas, a las cuales se asocia un costo de reposición de 3552.17 unidades monetarias. Por otra parte, con los datos recolectados es posible detectar quienes son los usuarios que no devolvieron las películas a través de su id y enviarles un correo electrónico de recordatorio. "
   ]
  },
  {
   "cell_type": "markdown",
   "metadata": {},
   "source": [
    "## 2. ¿Cuál es el ranking de películas más rentadas?"
   ]
  },
  {
   "cell_type": "code",
   "execution_count": 191,
   "metadata": {},
   "outputs": [
    {
     "data": {
      "text/html": [
       "<div>\n",
       "<style scoped>\n",
       "    .dataframe tbody tr th:only-of-type {\n",
       "        vertical-align: middle;\n",
       "    }\n",
       "\n",
       "    .dataframe tbody tr th {\n",
       "        vertical-align: top;\n",
       "    }\n",
       "\n",
       "    .dataframe thead th {\n",
       "        text-align: right;\n",
       "    }\n",
       "</style>\n",
       "<table border=\"1\" class=\"dataframe\">\n",
       "  <thead>\n",
       "    <tr style=\"text-align: right;\">\n",
       "      <th></th>\n",
       "      <th>title</th>\n",
       "      <th>count</th>\n",
       "    </tr>\n",
       "  </thead>\n",
       "  <tbody>\n",
       "    <tr>\n",
       "      <th>0</th>\n",
       "      <td>FLAMINGOS CONNECTICUT</td>\n",
       "      <td>92</td>\n",
       "    </tr>\n",
       "    <tr>\n",
       "      <th>1</th>\n",
       "      <td>BUCKET BROTHERHOOD</td>\n",
       "      <td>34</td>\n",
       "    </tr>\n",
       "    <tr>\n",
       "      <th>2</th>\n",
       "      <td>ROCKETEER MOTHER</td>\n",
       "      <td>33</td>\n",
       "    </tr>\n",
       "    <tr>\n",
       "      <th>3</th>\n",
       "      <td>FORWARD TEMPLE</td>\n",
       "      <td>32</td>\n",
       "    </tr>\n",
       "    <tr>\n",
       "      <th>4</th>\n",
       "      <td>GRIT CLOCKWORK</td>\n",
       "      <td>32</td>\n",
       "    </tr>\n",
       "  </tbody>\n",
       "</table>\n",
       "</div>"
      ],
      "text/plain": [
       "                    title  count\n",
       "0   FLAMINGOS CONNECTICUT     92\n",
       "1      BUCKET BROTHERHOOD     34\n",
       "2        ROCKETEER MOTHER     33\n",
       "3          FORWARD TEMPLE     32\n",
       "4          GRIT CLOCKWORK     32"
      ]
     },
     "execution_count": 191,
     "metadata": {},
     "output_type": "execute_result"
    }
   ],
   "source": [
    "most_movies = df_fusion[' title'].value_counts().reset_index().head(5)\n",
    "\n",
    "most_movies"
   ]
  },
  {
   "cell_type": "code",
   "execution_count": 206,
   "metadata": {},
   "outputs": [
    {
     "data": {
      "text/html": [
       "<div>\n",
       "<style scoped>\n",
       "    .dataframe tbody tr th:only-of-type {\n",
       "        vertical-align: middle;\n",
       "    }\n",
       "\n",
       "    .dataframe tbody tr th {\n",
       "        vertical-align: top;\n",
       "    }\n",
       "\n",
       "    .dataframe thead th {\n",
       "        text-align: right;\n",
       "    }\n",
       "</style>\n",
       "<table border=\"1\" class=\"dataframe\">\n",
       "  <thead>\n",
       "    <tr style=\"text-align: right;\">\n",
       "      <th></th>\n",
       "      <th>rating</th>\n",
       "      <th>title</th>\n",
       "    </tr>\n",
       "  </thead>\n",
       "  <tbody>\n",
       "    <tr>\n",
       "      <th>1613</th>\n",
       "      <td>PG</td>\n",
       "      <td>BUCKET BROTHERHOOD</td>\n",
       "    </tr>\n",
       "    <tr>\n",
       "      <th>5083</th>\n",
       "      <td>PG-13</td>\n",
       "      <td>FLAMINGOS CONNECTICUT</td>\n",
       "    </tr>\n",
       "    <tr>\n",
       "      <th>5340</th>\n",
       "      <td>NC-17</td>\n",
       "      <td>FORWARD TEMPLE</td>\n",
       "    </tr>\n",
       "    <tr>\n",
       "      <th>6183</th>\n",
       "      <td>PG</td>\n",
       "      <td>GRIT CLOCKWORK</td>\n",
       "    </tr>\n",
       "    <tr>\n",
       "      <th>11811</th>\n",
       "      <td>PG-13</td>\n",
       "      <td>ROCKETEER MOTHER</td>\n",
       "    </tr>\n",
       "  </tbody>\n",
       "</table>\n",
       "</div>"
      ],
      "text/plain": [
       "       rating                   title\n",
       "1613       PG      BUCKET BROTHERHOOD\n",
       "5083    PG-13   FLAMINGOS CONNECTICUT\n",
       "5340    NC-17          FORWARD TEMPLE\n",
       "6183       PG          GRIT CLOCKWORK\n",
       "11811   PG-13        ROCKETEER MOTHER"
      ]
     },
     "execution_count": 206,
     "metadata": {},
     "output_type": "execute_result"
    }
   ],
   "source": [
    "mrm = most_movies[' title'].tolist()\n",
    "\n",
    "df_filtrado = df_fusion[df_fusion[' title'].isin(mrm)]\n",
    "\n",
    "df_filtrado[[' rating', ' title']].drop_duplicates()"
   ]
  },
  {
   "cell_type": "markdown",
   "metadata": {},
   "source": [
    "#### De acuerdo con la base de datos en la tabla anterior se encuentran las 5 películas con mayor cantidad de registros de renta, esta información es útil para ampliar la cantidad de películas con este título o complementar el catálogo con precuelas y secuelas de estas películas, buscar títulos del mismo director o categoría"
   ]
  },
  {
   "cell_type": "markdown",
   "metadata": {},
   "source": [
    "## 3. ¿Cuáles son los clientes que más películas han rentado?"
   ]
  },
  {
   "cell_type": "code",
   "execution_count": 181,
   "metadata": {},
   "outputs": [],
   "source": [
    "# Cargar la información de los consumidores\n",
    "archivo_excel = 'Films_2 (3).xlsx'  \n",
    "df = pd.read_excel(archivo_excel, sheet_name='customer')"
   ]
  },
  {
   "cell_type": "code",
   "execution_count": 190,
   "metadata": {},
   "outputs": [
    {
     "data": {
      "text/html": [
       "<div>\n",
       "<style scoped>\n",
       "    .dataframe tbody tr th:only-of-type {\n",
       "        vertical-align: middle;\n",
       "    }\n",
       "\n",
       "    .dataframe tbody tr th {\n",
       "        vertical-align: top;\n",
       "    }\n",
       "\n",
       "    .dataframe thead th {\n",
       "        text-align: right;\n",
       "    }\n",
       "</style>\n",
       "<table border=\"1\" class=\"dataframe\">\n",
       "  <thead>\n",
       "    <tr style=\"text-align: right;\">\n",
       "      <th></th>\n",
       "      <th>customer_id</th>\n",
       "      <th>count</th>\n",
       "    </tr>\n",
       "  </thead>\n",
       "  <tbody>\n",
       "    <tr>\n",
       "      <th>0</th>\n",
       "      <td>148</td>\n",
       "      <td>46</td>\n",
       "    </tr>\n",
       "    <tr>\n",
       "      <th>1</th>\n",
       "      <td>526</td>\n",
       "      <td>45</td>\n",
       "    </tr>\n",
       "    <tr>\n",
       "      <th>2</th>\n",
       "      <td>236</td>\n",
       "      <td>42</td>\n",
       "    </tr>\n",
       "    <tr>\n",
       "      <th>3</th>\n",
       "      <td>144</td>\n",
       "      <td>42</td>\n",
       "    </tr>\n",
       "    <tr>\n",
       "      <th>4</th>\n",
       "      <td>75</td>\n",
       "      <td>41</td>\n",
       "    </tr>\n",
       "  </tbody>\n",
       "</table>\n",
       "</div>"
      ],
      "text/plain": [
       "    customer_id  count\n",
       "0           148     46\n",
       "1           526     45\n",
       "2           236     42\n",
       "3           144     42\n",
       "4            75     41"
      ]
     },
     "execution_count": 190,
     "metadata": {},
     "output_type": "execute_result"
    }
   ],
   "source": [
    "df_fusion[' customer_id'].value_counts().reset_index().head(5)"
   ]
  },
  {
   "cell_type": "code",
   "execution_count": 183,
   "metadata": {},
   "outputs": [
    {
     "data": {
      "text/html": [
       "<div>\n",
       "<style scoped>\n",
       "    .dataframe tbody tr th:only-of-type {\n",
       "        vertical-align: middle;\n",
       "    }\n",
       "\n",
       "    .dataframe tbody tr th {\n",
       "        vertical-align: top;\n",
       "    }\n",
       "\n",
       "    .dataframe thead th {\n",
       "        text-align: right;\n",
       "    }\n",
       "</style>\n",
       "<table border=\"1\" class=\"dataframe\">\n",
       "  <thead>\n",
       "    <tr style=\"text-align: right;\">\n",
       "      <th></th>\n",
       "      <th>first_name</th>\n",
       "      <th>last_name</th>\n",
       "    </tr>\n",
       "  </thead>\n",
       "  <tbody>\n",
       "    <tr>\n",
       "      <th>74</th>\n",
       "      <td>TAMMY</td>\n",
       "      <td>SANDERS</td>\n",
       "    </tr>\n",
       "    <tr>\n",
       "      <th>143</th>\n",
       "      <td>CLARA</td>\n",
       "      <td>SHAW</td>\n",
       "    </tr>\n",
       "    <tr>\n",
       "      <th>147</th>\n",
       "      <td>ELEANOR</td>\n",
       "      <td>HUNT</td>\n",
       "    </tr>\n",
       "    <tr>\n",
       "      <th>235</th>\n",
       "      <td>MARCIA</td>\n",
       "      <td>DEAN</td>\n",
       "    </tr>\n",
       "    <tr>\n",
       "      <th>525</th>\n",
       "      <td>KARL</td>\n",
       "      <td>SEAL</td>\n",
       "    </tr>\n",
       "  </tbody>\n",
       "</table>\n",
       "</div>"
      ],
      "text/plain": [
       "    first_name last_name\n",
       "74       TAMMY   SANDERS\n",
       "143      CLARA      SHAW\n",
       "147    ELEANOR      HUNT\n",
       "235     MARCIA      DEAN\n",
       "525       KARL      SEAL"
      ]
     },
     "execution_count": 183,
     "metadata": {},
     "output_type": "execute_result"
    }
   ],
   "source": [
    "idc = df_fusion[' customer_id'].value_counts().reset_index().head(5)[' customer_id'].tolist()\n",
    "df_filtrado = df[df['customer_id'].isin(idc)]\n",
    "\n",
    "df_filtrado[[' first_name', ' last_name']]"
   ]
  },
  {
   "cell_type": "markdown",
   "metadata": {},
   "source": [
    "#### En la tabla anterior se muestran los nombres y los índices de las personas que mayor número de rentas tienen registradas en la base de datos, con esta información pueden crearse pases o promociones especiales para los clientes de acuerdo con rangos de rentas en periodos de tiempo definidos"
   ]
  },
  {
   "cell_type": "code",
   "execution_count": null,
   "metadata": {},
   "outputs": [
    {
     "data": {
      "text/plain": [
       "array([<Axes: ylabel='count'>], dtype=object)"
      ]
     },
     "execution_count": 184,
     "metadata": {},
     "output_type": "execute_result"
    },
    {
     "data": {
      "image/png": "[encoded data removed]",
      "text/plain": [
       "<Figure size 600x600 with 1 Axes>"
      ]
     },
     "metadata": {},
     "output_type": "display_data"
    }
   ],
   "source": [
    "df[' active'].value_counts().plot(kind='pie', \n",
    "                                subplots=True,\n",
    "                                autopct='%1.1f%%', \n",
    "                                startangle=90, \n",
    "                                figsize=(6, 6), \n",
    "                                title='Suscripción activa')"
   ]
  },
  {
   "cell_type": "markdown",
   "metadata": {},
   "source": [
    "#### Asumiendo 1 como activo y 0 como activo se puede decir que el 98.9% de los clientes de la base de datos están activos"
   ]
  },
  {
   "cell_type": "markdown",
   "metadata": {},
   "source": [
    "## 4. ¿Cuál es el ranking de segmentos? "
   ]
  },
  {
   "cell_type": "code",
   "execution_count": 185,
   "metadata": {},
   "outputs": [
    {
     "data": {
      "text/html": [
       "<div>\n",
       "<style scoped>\n",
       "    .dataframe tbody tr th:only-of-type {\n",
       "        vertical-align: middle;\n",
       "    }\n",
       "\n",
       "    .dataframe tbody tr th {\n",
       "        vertical-align: top;\n",
       "    }\n",
       "\n",
       "    .dataframe thead th {\n",
       "        text-align: right;\n",
       "    }\n",
       "</style>\n",
       "<table border=\"1\" class=\"dataframe\">\n",
       "  <thead>\n",
       "    <tr style=\"text-align: right;\">\n",
       "      <th></th>\n",
       "      <th>rating</th>\n",
       "      <th>count</th>\n",
       "    </tr>\n",
       "  </thead>\n",
       "  <tbody>\n",
       "    <tr>\n",
       "      <th>0</th>\n",
       "      <td>PG-13</td>\n",
       "      <td>3629</td>\n",
       "    </tr>\n",
       "    <tr>\n",
       "      <th>1</th>\n",
       "      <td>NC-17</td>\n",
       "      <td>3293</td>\n",
       "    </tr>\n",
       "    <tr>\n",
       "      <th>2</th>\n",
       "      <td>PG</td>\n",
       "      <td>3212</td>\n",
       "    </tr>\n",
       "    <tr>\n",
       "      <th>3</th>\n",
       "      <td>R</td>\n",
       "      <td>3181</td>\n",
       "    </tr>\n",
       "    <tr>\n",
       "      <th>4</th>\n",
       "      <td>G</td>\n",
       "      <td>2773</td>\n",
       "    </tr>\n",
       "  </tbody>\n",
       "</table>\n",
       "</div>"
      ],
      "text/plain": [
       "   rating  count\n",
       "0   PG-13   3629\n",
       "1   NC-17   3293\n",
       "2      PG   3212\n",
       "3       R   3181\n",
       "4       G   2773"
      ]
     },
     "execution_count": 185,
     "metadata": {},
     "output_type": "execute_result"
    }
   ],
   "source": [
    "df_fusion[' rating'].value_counts().reset_index()"
   ]
  },
  {
   "cell_type": "code",
   "execution_count": 186,
   "metadata": {},
   "outputs": [
    {
     "data": {
      "text/plain": [
       "array([<Axes: ylabel='count'>], dtype=object)"
      ]
     },
     "execution_count": 186,
     "metadata": {},
     "output_type": "execute_result"
    },
    {
     "data": {
      "image/png": "[encoded data removed]",
      "text/plain": [
       "<Figure size 600x600 with 1 Axes>"
      ]
     },
     "metadata": {},
     "output_type": "display_data"
    }
   ],
   "source": [
    "df_fusion[' rating'].value_counts().plot(kind='pie', \n",
    "                                        subplots=True,\n",
    "                                        autopct='%1.1f%%', \n",
    "                                        startangle=90, \n",
    "                                        figsize=(6, 6), \n",
    "                                        title='Distribución de Categorías')"
   ]
  },
  {
   "cell_type": "markdown",
   "metadata": {},
   "source": [
    "#### La gráfica previamente presentada describe el interés que tiene la población en cada categoría, esto podría guiar la toma de decisiones respecto a la adición de nuevas películas"
   ]
  },
  {
   "cell_type": "markdown",
   "metadata": {},
   "source": [
    "## 5. ¿Cómo cuantificar la perdida o riesgo con una película que no es devuelta o que no se renta regularmente? "
   ]
  },
  {
   "cell_type": "markdown",
   "metadata": {},
   "source": [
    "Para dar respuesta a esta pregunta se define el índice_r:\n",
    "\n",
    "$índice\\_r = \\frac{replacement\\_cost}{rental\\_rate}$\n",
    "\n",
    "Este índice relaciona la tasa de renta, la cual se asume como un indicador de las veces que se renta una película en un periodo de tiempo con el costo de reemplazo, el cual se asume como la inversión que implica reponer una pelicula no devuelta. \n",
    "\n",
    "Este indice es inversamente proporcial a la tasa de renta, es decir, entre más veces sea rentada en ese periodo de tiempo, menor es la reserva de para reemplazarlo, es decir, que entre menor sea este índice menor es el riesgo que se corre al rentar esa película. Valores altos de este índice implica que hay un mayor capital en riesgo al no ser devuelta la película."
   ]
  },
  {
   "cell_type": "code",
   "execution_count": 187,
   "metadata": {},
   "outputs": [],
   "source": [
    "file = 'df_film_processed.xlsx'\n",
    "df_film_clean = pd.read_excel(file)"
   ]
  },
  {
   "cell_type": "code",
   "execution_count": 188,
   "metadata": {},
   "outputs": [
    {
     "data": {
      "text/html": [
       "<div>\n",
       "<style scoped>\n",
       "    .dataframe tbody tr th:only-of-type {\n",
       "        vertical-align: middle;\n",
       "    }\n",
       "\n",
       "    .dataframe tbody tr th {\n",
       "        vertical-align: top;\n",
       "    }\n",
       "\n",
       "    .dataframe thead th {\n",
       "        text-align: right;\n",
       "    }\n",
       "</style>\n",
       "<table border=\"1\" class=\"dataframe\">\n",
       "  <thead>\n",
       "    <tr style=\"text-align: right;\">\n",
       "      <th></th>\n",
       "      <th>Título</th>\n",
       "      <th>índice_r</th>\n",
       "    </tr>\n",
       "  </thead>\n",
       "  <tbody>\n",
       "    <tr>\n",
       "      <th>259</th>\n",
       "      <td>DUDE BLINDNESS</td>\n",
       "      <td>2.002004</td>\n",
       "    </tr>\n",
       "    <tr>\n",
       "      <th>271</th>\n",
       "      <td>EDGE KISSING</td>\n",
       "      <td>2.002004</td>\n",
       "    </tr>\n",
       "    <tr>\n",
       "      <th>890</th>\n",
       "      <td>THIN SAGEBRUSH</td>\n",
       "      <td>2.002004</td>\n",
       "    </tr>\n",
       "    <tr>\n",
       "      <th>202</th>\n",
       "      <td>DAISY MENAGERIE</td>\n",
       "      <td>2.002004</td>\n",
       "    </tr>\n",
       "    <tr>\n",
       "      <th>306</th>\n",
       "      <td>FELLOWSHIP AUTUMN</td>\n",
       "      <td>2.002004</td>\n",
       "    </tr>\n",
       "  </tbody>\n",
       "</table>\n",
       "</div>"
      ],
      "text/plain": [
       "                 Título  índice_r\n",
       "259      DUDE BLINDNESS  2.002004\n",
       "271        EDGE KISSING  2.002004\n",
       "890      THIN SAGEBRUSH  2.002004\n",
       "202     DAISY MENAGERIE  2.002004\n",
       "306   FELLOWSHIP AUTUMN  2.002004"
      ]
     },
     "execution_count": 188,
     "metadata": {},
     "output_type": "execute_result"
    }
   ],
   "source": [
    "df_nuevo = pd.DataFrame({\n",
    "    'Título': df_film_clean[' title'], \n",
    "    'índice_r': df_film_clean[' replacement_cost'] / df_film_clean[' rental_rate'] \n",
    "})\n",
    "\n",
    "df_nuevo.sort_values(by='índice_r', ascending=True).head(5)"
   ]
  },
  {
   "cell_type": "markdown",
   "metadata": {},
   "source": [
    "#### Son de especial interés las películas con menor índice r, por lo cual son de especial interés las películas presentadas en la tabla anterior, como se mencionó previamente son aquellas cuya renta implica un menor riesgo de pérdida en caso de no ser devuelta. Aquellas películas con un índice r alto, deberían tener una política especial de renta debido al riesgo de la inversión en la reposición o analizar su posibilidad de retiro del catálogo."
   ]
  },
  {
   "cell_type": "markdown",
   "metadata": {},
   "source": [
    "# Concluciones\n",
    "\n",
    "- De acuerdo con la distibución de categorias, no hay desvalance fuerte, sin embargo la categoria PG-13 posee al menos 2 puntos porcentuales de mayor demanda respecto a las demás categorias\n",
    "- Las 5 películas más rentadas de la base de datos, pertenecen a las 3 categorías más rentadas de la base de datos\n",
    "\n"
   ]
  }
 ],
 "metadata": {
  "kernelspec": {
   "display_name": "Python 3",
   "language": "python",
   "name": "python3"
  },
  "language_info": {
   "codemirror_mode": {
    "name": "ipython",
    "version": 3
   },
   "file_extension": ".py",
   "mimetype": "text/x-python",
   "name": "python",
   "nbconvert_exporter": "python",
   "pygments_lexer": "ipython3",
   "version": "3.11.7"
  }
 },
 "nbformat": 4,
 "nbformat_minor": 2
}
